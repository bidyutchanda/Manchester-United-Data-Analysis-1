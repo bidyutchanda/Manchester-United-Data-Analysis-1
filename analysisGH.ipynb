{
 "cells": [
  {
   "cell_type": "markdown",
   "metadata": {},
   "source": [
    "# A Visual Data Analysis of how the New Managers fared at Manchester United Football Club"
   ]
  },
  {
   "cell_type": "markdown",
   "metadata": {
    "_uuid": "52ae4db81bbdd9e7e81ee7841b82a1d304140b4e"
   },
   "source": [
    "### **Importing the dataset**"
   ]
  },
  {
   "cell_type": "code",
   "execution_count": null,
   "metadata": {
    "_cell_guid": "79c7e3d0-c299-4dcb-8224-4455121ee9b0",
    "_uuid": "d629ff2d2480ee46fbb7e2d37f6b5fab8052498a"
   },
   "outputs": [],
   "source": [
    "import pandas as pd\n",
    "import numpy as np\n",
    "data = pd.read_csv('../input/stats.csv')"
   ]
  },
  {
   "cell_type": "markdown",
   "metadata": {},
   "source": [
    "### displaying the first 5 datapoints of the dataset"
   ]
  },
  {
   "cell_type": "code",
   "execution_count": null,
   "metadata": {
    "_uuid": "7d68f12caef894aaa64633b991f793187cd23187",
    "scrolled": true
   },
   "outputs": [],
   "source": [
    "data.head()"
   ]
  },
  {
   "cell_type": "markdown",
   "metadata": {
    "_uuid": "4bbd57d31f46ca8f105fe4a98c7a2adf12fd7dbd"
   },
   "source": [
    "# **General Overview of Wins and Losses for Manchester United from seasons 2006-07 to 2017-18**"
   ]
  },
  {
   "cell_type": "markdown",
   "metadata": {
    "_uuid": "d9fd248da1364c8c03b0c657eb877faeb1890fc4"
   },
   "source": [
    "## A. Extracting data that is valid only for Manchester United. "
   ]
  },
  {
   "cell_type": "code",
   "execution_count": null,
   "metadata": {
    "_uuid": "db2093f6d255f3f0f1b8a3218fdf884403b20c92"
   },
   "outputs": [],
   "source": [
    "data_united = data[data.team=='Manchester United']\n",
    "#Extracting only data that is valid for Manchester United."
   ]
  },
  {
   "cell_type": "markdown",
   "metadata": {
    "_uuid": "b255828e32381c4bad3f1e9e19db379f156ad507"
   },
   "source": [
    "## B. Slicing the original DataFrame into two.\n",
    "\n",
    "### One for Wins v Season."
   ]
  },
  {
   "cell_type": "code",
   "execution_count": null,
   "metadata": {
    "_uuid": "5f9c4fc2fd2b4f1763833ea1f30b994279eb7dd9"
   },
   "outputs": [],
   "source": [
    "features_wins = ['wins','season'] \n",
    "data_winsVseason = data_united[features_wins] #Extracting out wins for every season."
   ]
  },
  {
   "cell_type": "markdown",
   "metadata": {
    "_uuid": "a32d620d60240ec235acaf6039d27decac07bfcf"
   },
   "source": [
    "### And another for Losses v Season. "
   ]
  },
  {
   "cell_type": "code",
   "execution_count": null,
   "metadata": {
    "_uuid": "5d38ac76f46e1bf68f673eff7d010e17dbb0a920"
   },
   "outputs": [],
   "source": [
    "features_loss= ['losses','season']\n",
    "data_lossVseason = data_united[features_loss] #Extracting out losses for every season."
   ]
  },
  {
   "cell_type": "markdown",
   "metadata": {
    "_uuid": "74b091152eb2e87755ee524dd9e40dd37ba73ea7"
   },
   "source": [
    "## C. Creating the Matplotlib plot."
   ]
  },
  {
   "cell_type": "code",
   "execution_count": null,
   "metadata": {
    "_uuid": "04fd0ec1a7956bcd6b54f9624ad6ce9b47b1f472",
    "scrolled": false
   },
   "outputs": [],
   "source": [
    "import matplotlib.pyplot as plt\n",
    "\n",
    "#Plotting Wins and Losses v/s Season\n",
    "plt.rcParams['figure.figsize'] = [12, 8] #creates a graph of 10x7 inches\n",
    "plt.plot(data_winsVseason.season, data_winsVseason.wins, label = 'Wins', marker='o') #plot Wins v Season\n",
    "plt.plot(data_lossVseason.season, data_lossVseason.losses, label = 'Losses', marker='o') #plot Loss vs Season, with markers and label\n",
    "plt.ylim(0,30) #for setting y limits from 15 to 30.\n",
    "plt.grid(which='major', axis='both', linestyle='-.', linewidth=0.75) #plotting grid. See pyplot.grid in Google.\n",
    "plt.xticks(rotation=60, fontsize=14) #rotate x axis labels and increase font.\n",
    "plt.yticks(fontsize=14) #increase yticks fontsize.\n",
    "plt.legend(fontsize=14) #show labels as legend\n",
    "plt.title('Wins and Losses v/s Season', fontsize = 20)\n",
    "\n",
    "try: #try catch is used because here x-coord is a string like 2006-2007 and hence gives a TypeError. So TypeError errors are overlooked in except statement.\n",
    "    \n",
    "    plt.annotate('Moyes comes in', xy=('2013-2014',19), xytext=('2013-2014', 21),arrowprops=dict(facecolor='black', shrink=0.05, width=1, headwidth=8), fontsize =10) \n",
    "    #For the wins curve. The label is Moyes comes in.\n",
    "    #xy is the position of marker point. xytext is position of label text. \n",
    "    \n",
    "    plt.annotate('Moyes comes in', xy=('2013-2014',12), xytext=('2013-2014', 14),arrowprops=dict(facecolor='black', shrink=0.05, width=1, headwidth=8), fontsize =10) \n",
    "    #For losses curve. The label is Moyes comes in.\n",
    "    \n",
    "    plt.annotate('Van Gaal comes in', xy=('2014-2015',20), xytext=('2014-2015', 23),arrowprops=dict(facecolor='black', shrink=0.05, width=1, headwidth=8), fontsize =10) \n",
    "    #For wins curve when LVG comes in.\n",
    "    \n",
    "    plt.annotate('Van Gaal comes in', xy=('2014-2015',8), xytext=('2014-2015', 11),arrowprops=dict(facecolor='black', shrink=0.05, width=1, headwidth=8), fontsize =10)\n",
    "    #For losses curve when LVG comes in.\n",
    "    \n",
    "    plt.annotate('Mourinho comes in', xy=('2016-2017',18), xytext=('2016-2017', 20),arrowprops=dict(facecolor='black', shrink=0.05, width=1, headwidth=8), fontsize =10) \n",
    "    #For wins curve when Mou comes in. \n",
    "    \n",
    "    plt.annotate('Mourinho comes in', xy=('2016-2017',5), xytext=('2016-2017', 8),arrowprops=dict(facecolor='black', shrink=0.05, width=1, headwidth=8), fontsize =10) \n",
    "    #For losses curve when Mou comes in. \n",
    "    \n",
    "    plt.text('2009-2010',16,'The Famous SAF Era', horizontalalignment='center', verticalalignment='center', fontsize =16, bbox=dict(facecolor='red', alpha=0.5)) \n",
    "    #For the middle big text\n",
    "except TypeError: \n",
    "    pass\n",
    "\n"
   ]
  },
  {
   "cell_type": "markdown",
   "metadata": {
    "_uuid": "07a9b30da8032a5781a7418ad1a963ad1b4b891e"
   },
   "source": []
  }
 ],
 "metadata": {
  "kernelspec": {
   "display_name": "Python 3",
   "language": "python",
   "name": "python3"
  },
  "language_info": {
   "codemirror_mode": {
    "name": "ipython",
    "version": 3
   },
   "file_extension": ".py",
   "mimetype": "text/x-python",
   "name": "python",
   "nbconvert_exporter": "python",
   "pygments_lexer": "ipython3",
   "version": "3.7.4"
  }
 },
 "nbformat": 4,
 "nbformat_minor": 1
}
